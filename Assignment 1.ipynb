{
 "cells": [
  {
   "cell_type": "markdown",
   "metadata": {},
   "source": [
    "# Assignment 1: Dino Fun World\n",
    "\n",
    "### Assignment Description\n",
    "\n",
    "You, in your role as a data explorer and visualizer, have been asked by the administrators of a small amusement park in your hometown to answer a few questions about their park operations. The dataset that they provided for you to perform the requested analysis includes the movement and communication data captured from the park attendees' apps during one weekend (Friday, Saturday, and Sunday).\n",
    "\n",
    "The administrators would like you to answer four relatively simple questions about the park activities on the day in question. These questions all deal with park operations and can be answered using the data provided.\n",
    "\n",
    "Question 1: What is the most popular attraction to visit in the park?\n",
    "\n",
    "Question 2: What ride (note that not all attractions are rides) has the longest average visit time?\n",
    "\n",
    "Question 3: Which Fast Food offering has the fewest visitors?\n",
    "\n",
    "Question 4: Compute the Skyline of number of visits and visit time for the park's ride, and report the rides that appear in the Skyline. (Note: Your answer should be three points, which can be given in any order.)\n",
    "\n",
    "\n",
    "### Directions\n",
    "\n",
    "The database provided by the park administration is formatted to be readable by any SQL database library. The course staff recommends the sqlite3 library. The database contains three tables, named 'checkin', 'attractions', and 'sequences'. The database file is named 'dinofunworld.db' and is available in the read only directory of the Jupyter Notebook environment (i.e., readonly/dinofunworld.db). It can also be accessed by selecting File > Open > dinofunworld.db.\n",
    "\n",
    "The information contained in each of these tables is listed below:\n",
    "\n",
    "`checkin`:\n",
    "    - The check-in data for all visitors for the day in the park. The data includes two types of check-ins: inferred and actual checkins.\n",
    "    - Fields: visitorID, timestamp, attraction, duration, type\n",
    "`attraction`:\n",
    "    - The attractions in the park by their corresponding AttractionID, Name, Region, Category, and type. Regions are from the VAST Challenge map such as Coaster Alley, Tundra Land, etc. Categories include Thrill rides, Kiddie Rides, etc. Type is broken into Outdoor Coaster, Other Ride, Carousel, etc.\n",
    "    - Fields: AttractionID, Name, Region, Category, type\n",
    "`sequences`:\n",
    "    - The check-in sequences of visitors. These sequences list the position of each visitor to the park every five minutes. If the visitor has not entered the part yet, the sequence has a value of 0 for that time interval. If the visitor is in the park, the sequence lists the attraction they have most recently checked in to until they check in to a new one or leave the park.\n",
    "    - Fields: visitorID, sequence\n",
    "    \n",
    "Using the provided data, answer the four questions that the administrators have asked.\n",
    "\n",
    "### Submission Directions for Assignment Deliverables\n",
    "\n",
    "This assignment will be auto-graded. We recommend that you use Jupyter Notebook in your browser to complete and submit this assignment. In order for your answers to be correctly registered in the system, you must place the code for your answers in the cell indicated for each question. In addition, you should submit the assignment with the output of the code in the cell's display area. The display area should contain only your answer to the question with no extraneous information, or else the answer may not be picked up correctly. \n",
    "\n",
    "Each cell that is going to be graded has a set of comment lines at the beginning of the cell. These lines are extremely important and must not be modified or removed. (Graded Cell and PartID comments must be in the same line for proper execution of code.)\n",
    "\n",
    "Please execute each cell in Jupyter Notebook before submitting.\n",
    "\n",
    "If you choose to download the file and work on your assignment locally, you can also upload your file to each part in the programming assignment submission space. The file you submit should be named \"Assignment_1.ipynb\".\n",
    "\n",
    "### Evaluation\n",
    "\n",
    "There are four parts in the grading, and each part has one test case where the total number of points for all parts is 4. If some part of your data is incorrect, you will get a partial score of 0.25 or 0.50. If the submission fails, we will return the corresponding error messages. If the submission is correct, you will see \"Correct\" with 1.0 point for each part."
   ]
  },
  {
   "cell_type": "code",
   "execution_count": 1,
   "metadata": {
    "scrolled": false
   },
   "outputs": [
    {
     "name": "stdout",
     "output_type": "stream",
     "text": [
      "Atmosfear\n"
     ]
    }
   ],
   "source": [
    "# Graded Cell, PartID: NDnou\n",
    "# Question 1: What is the most popular attraction to visit in the park?\n",
    "# Notes: Your output should be the name of the attraction.\n",
    "\n",
    "import sqlite3\n",
    "db_filename = 'readonly/dinofunworld.db'\n",
    "conn = sqlite3.connect(db_filename)\n",
    "c = conn.cursor()\n",
    "\n",
    "c.execute(\"select Name from checkin inner join attraction on checkin.attraction = attraction.AttractionId group by Name order by count(*) desc\")\n",
    "print(c.fetchone()[0])"
   ]
  },
  {
   "cell_type": "code",
   "execution_count": 2,
   "metadata": {},
   "outputs": [
    {
     "name": "stdout",
     "output_type": "stream",
     "text": [
      "Flight of the Swingodon\n"
     ]
    }
   ],
   "source": [
    "# Graded Cell, PartID: FXGHp\n",
    "# Question 2: What ride (note that not all attractions are rides) has the longest average visit time?\n",
    "# Notes: Your output should be the name of the ride.\n",
    "\n",
    "from datetime import timedelta\n",
    "import operator\n",
    "\n",
    "c.execute(\"select AttractionId, Name from attraction where lower(Category) like '%ride%'\")\n",
    "duration_dict = {}\n",
    "\n",
    "for i in c.fetchall():\n",
    "    ride_id = i[0]\n",
    "    c.execute(\"select duration from checkin where attraction=\" + str(ride_id))\n",
    "    \n",
    "    total_duration = 0    \n",
    "    for j in c.fetchall():\n",
    "        count = 0\n",
    "        try:\n",
    "            d = j[0].split(\":\")\n",
    "            total_duration += timedelta(int(d[0]), int(d[1]), int(d[2])).total_seconds()\n",
    "            count += 1\n",
    "        except :\n",
    "            continue\n",
    "    duration_dict[ride_id] = total_duration\n",
    "\n",
    "attrId = max(duration_dict.items(), key=operator.itemgetter(1))[0]\n",
    "c.execute(\"select Name from attraction where AttractionId=\" + str(attrId))\n",
    "print(c.fetchone()[0])\n"
   ]
  },
  {
   "cell_type": "code",
   "execution_count": 7,
   "metadata": {},
   "outputs": [
    {
     "name": "stdout",
     "output_type": "stream",
     "text": [
      "Theresaur Food Stop\n"
     ]
    }
   ],
   "source": [
    "# Graded Cell, PartID: KALua\n",
    "# Question 3: Which Fast Food offering in the park has the fewest visitors?\n",
    "# Notes: Your output should be the name of the fast food offering.\n",
    "\n",
    "c.execute(\"select Name from attraction inner join checkin on attraction.AttractionId = checkin.attraction where attraction.type = 'Fast Food' group by Name order by count(*) asc\")\n",
    "print(c.fetchone()[0])"
   ]
  },
  {
   "cell_type": "code",
   "execution_count": 22,
   "metadata": {},
   "outputs": [
    {
     "name": "stdout",
     "output_type": "stream",
     "text": [
      "['Galactosaurus Rage', 'Atmosfear', 'Stegocycles']\n"
     ]
    }
   ],
   "source": [
    "# Graded Cell, PartID: B0LUP\n",
    "# Question 4: Compute the Skyline of number of visits and visit time for the park's ride and \n",
    "#  report the rides that appear in the Skyline. \n",
    "# Notes: Remember that in this case, higher visits is better and lower visit times are better. \n",
    "#  Your output should be formatted as an array listing the names of the rides in the Skyline.\n",
    "\n",
    "import math\n",
    "c.execute(\"select attraction, count(*) as ct from checkin where attraction in (select AttractionID from attraction where lower(Category) like '%ride%') group by attraction;\")\n",
    "visited = c.fetchall()\n",
    "best_visit = (0, 0)\n",
    "best_ride_time = (0, math.inf)\n",
    "best_both = (0, 0, math.inf)\n",
    "for (ride_id,count) in visited:\n",
    "    c.execute(\"select duration from checkin where attraction=\"+str(ride_id)+\";\")\n",
    "    duration_list = c.fetchall()\n",
    "    total_duration = 0\n",
    "    n = 0\n",
    "    for duration in duration_list:\n",
    "        try:\n",
    "            d = duration[0].split(':')\n",
    "            total_duration += timedelta(int(d[0]), int(d[1]), int(d[2])).total_seconds()\n",
    "            n += 1\n",
    "        except:\n",
    "            continue\n",
    "    avg_duration = total_duration / n\n",
    "    if count > best_visit[1]:\n",
    "        best_visit = (ride_id, count)\n",
    "    if avg_duration < best_ride_time[1]:\n",
    "        best_ride_time = (ride_id, avg_duration)\n",
    "    if count > best_both[1] and avg_duration < best_both[2]:\n",
    "        best_both = (ride_id, count, avg_duration)\n",
    "c.execute(\"select Name from attraction where AttractionID=\"+str(best_visit[0])+\" or AttractionID=\"+str(best_ride_time[0])+\" or AttractionID=\"+str(best_both[0])+\";\")\n",
    "names = c.fetchall()\n",
    "name_list = [name[0] for name in names]\n",
    "print(name_list)"
   ]
  },
  {
   "cell_type": "code",
   "execution_count": null,
   "metadata": {},
   "outputs": [],
   "source": []
  }
 ],
 "metadata": {
  "coursera": {
   "course_slug": "cse578",
   "graded_item_id": "ciN06",
   "launcher_item_id": "B127K"
  },
  "kernelspec": {
   "display_name": "Python 3",
   "language": "python",
   "name": "python3"
  },
  "language_info": {
   "codemirror_mode": {
    "name": "ipython",
    "version": 3
   },
   "file_extension": ".py",
   "mimetype": "text/x-python",
   "name": "python",
   "nbconvert_exporter": "python",
   "pygments_lexer": "ipython3",
   "version": "3.6.5"
  }
 },
 "nbformat": 4,
 "nbformat_minor": 2
}
